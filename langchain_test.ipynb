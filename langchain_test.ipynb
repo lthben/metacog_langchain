{
 "cells": [
  {
   "cell_type": "code",
   "execution_count": 56,
   "id": "83546e5c",
   "metadata": {
    "scrolled": true
   },
   "outputs": [],
   "source": [
    "import os\n",
    "import openai\n",
    "import IPython\n",
    "from langchain.llms import OpenAI\n",
    "from langchain.llms import OpenAI\n",
    "from dotenv import load_dotenv"
   ]
  },
  {
   "cell_type": "code",
   "execution_count": 57,
   "id": "54c45a3e",
   "metadata": {},
   "outputs": [],
   "source": [
    "load_dotenv()\n",
    "\n",
    "# API configuration\n",
    "openai.api_key = os.getenv(\"OPENAI_API_KEY\")\n",
    "\n",
    "# for LangChain\n",
    "os.environ[\"OPENAI_API_KEY\"] = os.getenv(\"OPENAI_API_KEY\")"
   ]
  },
  {
   "cell_type": "code",
   "execution_count": 190,
   "id": "a2775eda",
   "metadata": {
    "scrolled": true
   },
   "outputs": [],
   "source": [
    "llm=OpenAI(temperature=0.7)\n",
    "template=\"\"\"You are a nurturing teacher helping students to learn and improve their knowledge on topics that they are asking.\n",
    "\n",
    "If the user is asking a question, reply normally.\n",
    "\n",
    "Otherwise, If the user has indicated that they are done asking questions or is done with the topic, the reply will be \"Okay\".\n",
    "\n",
    "Human: {query}\n",
    "AI: reply:\"\"\"\n",
    "prompt_template = PromptTemplate(input_variables=[\"query\"], template=template)\n",
    "reply_chain = LLMChain(llm=llm, prompt=prompt_template)"
   ]
  },
  {
   "cell_type": "code",
   "execution_count": 197,
   "id": "314aaa66",
   "metadata": {},
   "outputs": [],
   "source": [
    "llm=OpenAI(temperature=0.7)\n",
    "template=\"\"\"\n",
    "You are a nurturing teacher who wants to help your students learn. \n",
    "\n",
    "If the reply is \"Okay\", provide a few metacognitive prompts to encourage them to reflect on their thinking process. Use the following template:\n",
    "\n",
    "1. What did you know previously about the topic?\n",
    "2. What is something new you have learnt about the topic?\n",
    "3. Which areas do you want to explore further regarding topic?\n",
    "\n",
    "Alternatively, if the reply is something other than \"Okay\", provide three related questions that will help the student explore the topic more deeply and add an option \"I am done with the topic\".\n",
    "\n",
    "Reply:{reply}\n",
    "AI: reply:\"\"\"\n",
    "prompt_template = PromptTemplate(input_variables=[\"reply\"], template=template)\n",
    "furtherPrompt_chain = LLMChain(llm=llm, prompt=prompt_template)"
   ]
  },
  {
   "cell_type": "code",
   "execution_count": 198,
   "id": "52a19580",
   "metadata": {},
   "outputs": [],
   "source": [
    "from langchain.chains import SimpleSequentialChain\n",
    "overall_chain = SimpleSequentialChain(chains=[reply_chain, furtherPrompt_chain], verbose=True)"
   ]
  },
  {
   "cell_type": "code",
   "execution_count": 199,
   "id": "b82d76b2",
   "metadata": {
    "scrolled": true
   },
   "outputs": [
    {
     "name": "stdout",
     "output_type": "stream",
     "text": [
      "\n",
      "\n",
      "\u001b[1m> Entering new SimpleSequentialChain chain...\u001b[0m\n",
      "\u001b[36;1m\u001b[1;3m Okay. Is there anything else I can help you with?\u001b[0m\n",
      "\u001b[33;1m\u001b[1;3m\n",
      "1. What strategies have you used to understand the topic so far?\n",
      "2. What do you think are the key points to remember when learning about this topic?\n",
      "3. Are there any other resources that you would like to explore?\n",
      "I am done with the topic.\u001b[0m\n",
      "\n",
      "\u001b[1m> Finished chain.\u001b[0m\n"
     ]
    }
   ],
   "source": [
    "cogPromptSeqChain = overall_chain.run(\"I am done with the topic\")"
   ]
  },
  {
   "cell_type": "code",
   "execution_count": null,
   "id": "83d20913",
   "metadata": {},
   "outputs": [],
   "source": []
  }
 ],
 "metadata": {
  "kernelspec": {
   "display_name": "Python 3 (ipykernel)",
   "language": "python",
   "name": "python3"
  },
  "language_info": {
   "codemirror_mode": {
    "name": "ipython",
    "version": 3
   },
   "file_extension": ".py",
   "mimetype": "text/x-python",
   "name": "python",
   "nbconvert_exporter": "python",
   "pygments_lexer": "ipython3",
   "version": "3.10.6"
  }
 },
 "nbformat": 4,
 "nbformat_minor": 5
}
